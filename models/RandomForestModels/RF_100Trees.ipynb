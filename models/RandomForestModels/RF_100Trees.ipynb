{
 "cells": [
  {
   "cell_type": "code",
   "execution_count": null,
   "id": "e0eec774",
   "metadata": {},
   "outputs": [],
   "source": [
    "import pandas as pd\n",
    "df = pd.read_csv(\"data_0104.csv\")\n",
    "df.head()"
   ]
  },
  {
   "cell_type": "code",
   "execution_count": null,
   "id": "e5aa7498",
   "metadata": {},
   "outputs": [],
   "source": [
    "df.isnull().sum()"
   ]
  },
  {
   "cell_type": "code",
   "execution_count": null,
   "id": "e3311907",
   "metadata": {},
   "outputs": [],
   "source": [
    "df.describe()"
   ]
  },
  {
   "cell_type": "code",
   "execution_count": null,
   "id": "a3a888aa",
   "metadata": {},
   "outputs": [],
   "source": [
    "#X : 데이터에서 '정체'열을 떼어낸 학습용, y는 '정체'열만 들어있는 label데이터\n",
    "#X2 : 후에 feature importance파악 시 사용할 데이터\n",
    "X = X2 = df.drop('정체', axis = 1)\n",
    "y = df['정체']\n",
    "X"
   ]
  },
  {
   "cell_type": "code",
   "execution_count": null,
   "id": "c7401b75",
   "metadata": {},
   "outputs": [],
   "source": [
    "#0은 정체, 1은 원활\n",
    "y"
   ]
  },
  {
   "cell_type": "code",
   "execution_count": null,
   "id": "08989e3c",
   "metadata": {},
   "outputs": [],
   "source": [
    "#dummy 변수 설정\n",
    "X = pd.get_dummies(X, columns = X.columns, drop_first = True)\n",
    "X.head()"
   ]
  },
  {
   "cell_type": "code",
   "execution_count": null,
   "id": "686b770a",
   "metadata": {},
   "outputs": [],
   "source": [
    "#데이터의 30%를 test용으로 분류\n",
    "from sklearn.model_selection import train_test_split\n",
    "X_train, X_test, y_train, y_test = train_test_split(X, y, test_size = 0.3, random_state = 42)"
   ]
  },
  {
   "cell_type": "code",
   "execution_count": null,
   "id": "372ed09e",
   "metadata": {},
   "outputs": [],
   "source": [
    "#train set oversampling\n",
    "from imblearn.over_sampling import SMOTE\n",
    "\n",
    "smote = SMOTE(random_state = 11)\n",
    "X_train_over, y_train_over = smote.fit_resample(X_train, y_train)\n",
    "\n",
    "print('SMOTE 적용 전', X_train.shape, y_train.shape)\n",
    "print('SMOTE 적용 후', X_train_over.shape, y_train_over.shape)\n",
    "print('SMOTE 적용 전 레이블 값 분포:\\n', pd.Series(y_train).value_counts())\n",
    "print('SMOTE 적용 후 레이블 값 분포:\\n', pd.Series(y_train_over).value_counts())"
   ]
  },
  {
   "cell_type": "code",
   "execution_count": null,
   "id": "ec9b63b8",
   "metadata": {},
   "outputs": [],
   "source": [
    "#평균 = 0, 표준편차 = 1인 표준정규분포로 표준화(데이터 노이즈 감소로 overfit 가능성 낮춤)\n",
    "from sklearn.preprocessing import StandardScaler\n",
    "sc = StandardScaler()\n",
    "\n",
    "X_train_over = sc.fit_transform(X_train_over)\n",
    "X_test = sc.transform(X_test)"
   ]
  },
  {
   "cell_type": "code",
   "execution_count": null,
   "id": "60997c3c",
   "metadata": {},
   "outputs": [],
   "source": [
    "#차원축소\n",
    "from sklearn.decomposition import PCA\n",
    "pca = PCA(n_components = 2)\n",
    "\n",
    "X_train_over = pca.fit_transform(X_train_over)\n",
    "X_test = pca.transform(X_test)"
   ]
  },
  {
   "cell_type": "code",
   "execution_count": null,
   "id": "c5f1bf96",
   "metadata": {},
   "outputs": [],
   "source": [
    "#정확도 점수, 표준 편차 등을 표시하는 함수들\n",
    "#train인지 test인지에 따라 출력 값이 다름\n",
    "#매개변수 값이 train이라면 결과값을 낼 때 10번의 교차검증을 모든 cpu를 사용하여 진행\n",
    "\n",
    "from sklearn.model_selection import cross_val_predict, cross_val_score\n",
    "from sklearn.metrics import confusion_matrix, classification_report, accuracy_score\n",
    "\n",
    "def print_score(classifier, X_train_over, y_train_over, X_test, y_test, train = True):\n",
    "    if train == True:\n",
    "        print(\"Training results:\\n\")\n",
    "        print(\"Accuracy Score: {0:.4f}\\n\".format(accuracy_score(y_train_over, classifier.predict(X_train_over))))\n",
    "        print(\"Classification Report:\\n{}\\n\".format(classification_report(y_train_over, classifier.predict(X_train_over))))\n",
    "        print(\"Confusion Matrix:\\n{}\\n\".format(confusion_matrix(y_train_over, classifier.predict(X_train_over))))\n",
    "        \n",
    "        res = cross_val_score(classifier, X_train_over, y_train_over, cv = 10, n_jobs = -1, scoring = 'accuracy')\n",
    "        \n",
    "        print(\"Average Accuracy:\\t{0:.4f}\\n\".format(res.mean()))\n",
    "        print(\"Standard Deviation:\\t{0:.4f}\\n\".format(res.std()))\n",
    "        \n",
    "    elif train == False:\n",
    "        print(\"Test results:\\n\")\n",
    "        print(\"Accuracy Score: {0:.4f}\\n\".format(accuracy_score(y_test, classifier.predict(X_test))))\n",
    "        print(\"Classification Report:\\n{}\\n\".format(classification_report(y_test, classifier.predict(X_test))))\n",
    "        print(\"Confusion Matrix:\\n{}\\n\".format(confusion_matrix(y_test, classifier.predict(X_test))))"
   ]
  },
  {
   "cell_type": "code",
   "execution_count": null,
   "id": "4997dd5b",
   "metadata": {},
   "outputs": [],
   "source": [
    "#100개의 결정트리 생성, 엔트로피 분리기준\n",
    "from sklearn.ensemble import RandomForestClassifier\n",
    "classifier = RandomForestClassifier(n_estimators = 100, criterion = 'entropy', random_state = 42)\n",
    "classifier.fit(X_train_over, y_train_over)"
   ]
  },
  {
   "cell_type": "code",
   "execution_count": null,
   "id": "2fdb3207",
   "metadata": {},
   "outputs": [],
   "source": [
    "print_score(classifier, X_train_over, y_train_over, X_test, y_test, train = True)"
   ]
  },
  {
   "cell_type": "code",
   "execution_count": null,
   "id": "9d5b707c",
   "metadata": {
    "scrolled": true
   },
   "outputs": [],
   "source": [
    "print_score(classifier, X_train_over, y_train_over, X_test, y_test, train = False)"
   ]
  },
  {
   "cell_type": "code",
   "execution_count": null,
   "id": "99eda811",
   "metadata": {},
   "outputs": [],
   "source": [
    "from sklearn.metrics import roc_curve\n",
    "from sklearn.metrics import roc_auc_score\n",
    "\n",
    "lr_probs = classifier.predict_proba(X_test)\n",
    "lr_probs = lr_probs[:, 1]\n",
    "lr_auc = roc_auc_score(y_test, lr_probs)"
   ]
  },
  {
   "cell_type": "code",
   "execution_count": null,
   "id": "2b95d3c1",
   "metadata": {},
   "outputs": [],
   "source": [
    "lr_fpr, lr_tpr, _ = roc_curve(y_test, lr_probs)"
   ]
  },
  {
   "cell_type": "code",
   "execution_count": null,
   "id": "92570ab6",
   "metadata": {},
   "outputs": [],
   "source": [
    "import matplotlib.pyplot as plt\n",
    "plt.plot(lr_fpr, lr_tpr, marker='.', label='RandomForest')\n",
    "plt.xlabel('False Positive Rate')\n",
    "plt.ylabel('True Positive Rate')\n",
    "plt.legend()\n",
    "plt.show()\n",
    "\n",
    "print('Random Forest: ROC AUC = %.3f' % (lr_auc))"
   ]
  },
  {
   "cell_type": "code",
   "execution_count": null,
   "id": "fd065090",
   "metadata": {},
   "outputs": [],
   "source": []
  }
 ],
 "metadata": {
  "kernelspec": {
   "display_name": "Python 3 (ipykernel)",
   "language": "python",
   "name": "python3"
  },
  "language_info": {
   "codemirror_mode": {
    "name": "ipython",
    "version": 3
   },
   "file_extension": ".py",
   "mimetype": "text/x-python",
   "name": "python",
   "nbconvert_exporter": "python",
   "pygments_lexer": "ipython3",
   "version": "3.9.10"
  }
 },
 "nbformat": 4,
 "nbformat_minor": 5
}
